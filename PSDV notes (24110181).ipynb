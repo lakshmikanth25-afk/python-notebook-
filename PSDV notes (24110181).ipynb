{
 "cells": [
  {
   "cell_type": "code",
   "execution_count": 1,
   "id": "0c932478-539e-4778-bcd5-4d9afcacfbe8",
   "metadata": {},
   "outputs": [
    {
     "name": "stdout",
     "output_type": "stream",
     "text": [
      "[1, 2, 3, 4, 5, 6, 7, 8, 9, 10, 11, 12, 13, 14, 15, 16, 17, 18, 19, 20]\n"
     ]
    }
   ],
   "source": [
    "# question 1 : Create a list of the first 20 natural numbers.\n",
    "numbers = list(range(1, 21))\n",
    "print(numbers)\n",
    "\n",
    "#Compute the sum of all even numbers in the list.\n",
    "even = 0\n",
    "for num in numbers:\n",
    "    if num % 2 == 0:\n",
    "        even += num\n",
    "print(\"Sum of even numbers:\", even)\n",
    "\n",
    "\n",
    "# Compute the product of all odd numbers in the list.\n",
    "odd = 1\n",
    "for num in numbers:\n",
    "    if num % 2 != 0:\n",
    "        odd *= num\n",
    "print(\"Product of odd numbers:\", odd)\n",
    "\n",
    "#Calculate the mean, median, and standard deviation of the list.\n",
    "\n",
    "#for the mean\n",
    "mean = sum(numbers) / 20\n",
    "print(\"Mean:\", mean)\n",
    "\n",
    "# for the median\n",
    "numbers.sort()  # Sorting the list to find the median\n",
    "n = len(numbers)\n",
    "if n % 2 == 1:  # If the list has an odd number of elements\n",
    "    median = numbers[n // 2]  # The middle element\n",
    "else:  # If the list has an even number of elements\n",
    "    median = (numbers[n // 2 - 1] + numbers[n // 2]) / 2  # Average of the two middle elements\n",
    "print(\"Median:\", median)\n",
    "\n",
    "# for the standard deviation\n",
    "\n",
    "import math\n",
    "mean_diff_square = 0  # Variable to hold the sum of squared differences from the mean\n",
    "for num in numbers:\n",
    "    mean_diff_square += (num - mean) ** 2  # Square the difference from the mean and add to the sum\n",
    "\n",
    "variance = mean_diff_square / len(numbers)  # Variance is the average of squared differences\n",
    "std_dev = math.sqrt(variance)  # Standard deviation is the square root of the variance\n",
    "print(\"Standard Deviation:\", std_dev)"
   ]
  },
  {
   "cell_type": "code",
   "execution_count": 31,
   "id": "9f350c96-bd3a-4a1b-99a6-8f1dc27ed065",
   "metadata": {},
   "outputs": [
    {
     "name": "stdout",
     "output_type": "stream",
     "text": [
      "[1, 2, 3]\n",
      "[1, 2, 3, 4]\n",
      "{1, 2, 3}\n",
      "{1, 2, 3, 4}\n",
      "{'a': 1, 'b': 2}\n",
      "{'a': 1, 'b': 2, 'c': 3}\n",
      "(1, 2, 3)\n",
      "hello world\n",
      "10\n",
      "15\n",
      "11.2 34.34 45.540000000000006\n"
     ]
    }
   ],
   "source": [
    "#question 2:Explain the difference between mutable and immutable data types in Python. Provide examples of each.\n",
    "\n",
    "#mutable data types are the data types that allow you to change their contents without changing their index values.\n",
    "# for example , if we consider a list say lst1=[1,2,3] and we need to change the number 3 to 4 , its possible as list is a mutable data type\n",
    "lst1=[1,2,3]\n",
    "print(lst1)\n",
    "lst1.append(4)\n",
    "print(lst1)\n",
    "\n",
    "# other examples of mutable data types are sets  and dictionaries which can be altered\n",
    "\n",
    "set1={1,2,3}\n",
    "print(set1)\n",
    "set1.add(4)\n",
    "print(set1)\n",
    "\n",
    "dict1={\"a\":1,\"b\":2}\n",
    "print(dict1)\n",
    "dict1[\"c\"]=3\n",
    "print(dict1)\n",
    "\n",
    "#immutable data types are the data types that  do not allow changes to their content after creation. Any changes will form new memory address\n",
    "# there are many immutable data types like tuples, integers, floating values and string\n",
    "tuple1=(1,2,3)\n",
    "print(tuple1)\n",
    "\n",
    "str = \"hello\"\n",
    "str1 = \" world\"\n",
    "string1=str + str1\n",
    "print(string1)\n",
    "\n",
    "x=10\n",
    "y=x+5\n",
    "print(x)\n",
    "print(y)\n",
    "\n",
    "a=11.2\n",
    "b=34.34\n",
    "c=a+b\n",
    "print(a,b,c)"
   ]
  },
  {
   "cell_type": "code",
   "execution_count": 55,
   "id": "60fc7ade-84ab-45de-bcf3-445e19af0450",
   "metadata": {},
   "outputs": [
    {
     "name": "stdin",
     "output_type": "stream",
     "text": [
      "Enter how many finbonacci numbers you need: 7\n"
     ]
    },
    {
     "name": "stdout",
     "output_type": "stream",
     "text": [
      "[0, 1, 1, 2, 3, 5, 8]\n"
     ]
    }
   ],
   "source": [
    "#question 3: Write a Python function that takes a number n and returns a list of the first n Fibonacci numbers.\n",
    "\n",
    "# let us consider that we need 5 fibonacci numbers of the sequence where n\n",
    "\n",
    "n = int(input(\"Enter how many finbonacci numbers you need:\"))\n",
    "fib_sequence = [0, 1]\n",
    "for _ in range(2, n):\n",
    "    fib_sequence.append(fib_sequence[-1] + fib_sequence[-2])\n",
    "print(fib_sequence[:n])  # Output: [0, 1, 1, 2, 3, 5, 8, 13, 21, 34]\n",
    "\n",
    "#Plot the Fibonacci sequence using a line graph.\n",
    "\n",
    "#for plotting this as a line graph I have used using matplotlib\n",
    "\n",
    "import matplotlib.pyplot as plt\n",
    "\n",
    "plt.plot(fib_sequence, marker='o')\n",
    "plt.title(f\"Fibonacci Sequence - First {n} Numbers\")\n",
    "plt.xlabel(\"Whole Numbers\")\n",
    "plt.ylabel(\"Fibonacci Number\")\n",
    "plt.grid(True)\n",
    "plt.show()"
   ]
  },
  {
   "cell_type": "code",
   "execution_count": 61,
   "id": "eca85cea-277d-4009-9676-f9ace5d4a24f",
   "metadata": {},
   "outputs": [
    {
     "name": "stdout",
     "output_type": "stream",
     "text": [
      "Modified list: [13, 11, 9, 6, 5, 3]\n",
      "Mean: 7.833333333333333\n",
      "Median: 7.5\n"
     ]
    }
   ],
   "source": [
    "#question 4:Write a Python code that performs these operations and computes the mean and median of the modified list.\n",
    "# Start with the given list\n",
    "numbers = [3, 5, 7, 9, 11, 13]\n",
    "\n",
    "#  Add 6 at the 3rd index (index starts at 0)\n",
    "numbers.insert(3, 6)\n",
    "\n",
    "#  Remove the number 7 from the list\n",
    "numbers.remove(7)\n",
    "\n",
    "#  Reverse the list\n",
    "numbers.reverse()\n",
    "\n",
    "#  Calculate the mean (average)\n",
    "total = sum(numbers)  # Sum all the numbers\n",
    "count = len(numbers)  # Get the total number of elements\n",
    "mean = total / count  # Divide the sum by the count\n",
    "\n",
    "#  Calculate the median\n",
    "n = len(numbers)  # Number of elements in the list\n",
    "if n % 2 == 1:  # If the list has an odd number of elements\n",
    "    median = numbers[n // 2]  # Middle element\n",
    "else:  # If the list has an even number of elements\n",
    "    middle1 = numbers[n // 2 - 1]  # First middle element\n",
    "    middle2 = numbers[n // 2]  # Second middle element\n",
    "    median = (middle1 + middle2) / 2  # Average of the two middle elements\n",
    "\n",
    "#  Print the results\n",
    "print(\"Modified list:\", numbers)\n",
    "print(\"Mean:\", mean)\n",
    "print(\"Median:\", median)\n"
   ]
  },
  {
   "cell_type": "code",
   "execution_count": 6,
   "id": "74df1162-29e9-4dd6-89de-484c7b407816",
   "metadata": {},
   "outputs": [
    {
     "name": "stdin",
     "output_type": "stream",
     "text": [
      "Enter a list of numbers (comma-separated):  12,13,14\n"
     ]
    },
    {
     "name": "stdout",
     "output_type": "stream",
     "text": [
      "Mean: 13.0\n",
      "Smallest number: 12\n",
      "Largest number: 14\n"
     ]
    },
    {
     "data": {
      "image/png": "[encoded data removed]",
      "text/plain": [
       "<Figure size 640x480 with 1 Axes>"
      ]
     },
     "metadata": {},
     "output_type": "display_data"
    }
   ],
   "source": [
    "# question 5 :Write a Python program that Reads a comma-separated list of numbers from the user (e.g., “10, 20, 30, 40”) and calculate the mean of the numbers and prints the smallest and largest numbers in the list.Also plot the graph\n",
    "\n",
    "#   a comma-separated list of numbers from the user\n",
    "numbers = list(map(int, input(\"Enter a list of numbers (comma-separated): \").split(\",\")))\n",
    "\n",
    "\n",
    "#  mean of the numbers\n",
    "mean = sum(numbers) / len(numbers)\n",
    "print(f\"Mean: {mean}\")\n",
    "\n",
    "\n",
    "#  the smallest and largest numbers\n",
    "smallest = min(numbers)\n",
    "print(f\"Smallest number: {smallest}\")\n",
    "largest = max(numbers)\n",
    "print(f\"Largest number: {largest}\")\n",
    "\n",
    "# the graph plotting was done useing matplotlib\n",
    "import matplotlib.pyplot as plt\n",
    "plt.hist(numbers,  edgecolor='gold')\n",
    "plt.title(\"Histogram of Numbers\")\n",
    "plt.xlabel(\"Value\")\n",
    "plt.ylabel(\"Frequency\")\n",
    "plt.show()"
   ]
  },
  {
   "cell_type": "code",
   "execution_count": 10,
   "id": "cbe31136-1354-4edb-acf7-e3b0297fd07d",
   "metadata": {},
   "outputs": [
    {
     "name": "stdin",
     "output_type": "stream",
     "text": [
      "Enter a string:  A man a plan a canal Panama\n"
     ]
    },
    {
     "name": "stdout",
     "output_type": "stream",
     "text": [
      "True\n"
     ]
    }
   ],
   "source": [
    "#question 6 :Write a Python program to check if a given string is a palindrome where the program should ignore spaces and case sensitivity while performing the check.\n",
    "\n",
    "\n",
    "input_string = input(\"Enter a string: \")\n",
    "\n",
    "# Remove spaces\n",
    "no_spaces = input_string.replace(\" \", \"\")\n",
    "\n",
    "# Convert to lowercase\n",
    "lowercase_string = no_spaces.lower()\n",
    "\n",
    "# Reverse the string\n",
    "reversed_string = lowercase_string[::-1]\n",
    "\n",
    "# lowercase string is the same as the reversed string\n",
    "if lowercase_string == reversed_string:\n",
    "    print(\"True\")  # It's a palindrome\n",
    "else:\n",
    "    print(\"False\")  # It's not a palindrome\n"
   ]
  },
  {
   "cell_type": "code",
   "execution_count": 24,
   "id": "d9b27f11-76d3-4a11-a6ce-d056d1a39a9e",
   "metadata": {},
   "outputs": [
    {
     "name": "stdout",
     "output_type": "stream",
     "text": [
      "Average marks: 83.8\n",
      "Students scoring above the average:\n",
      "Ali\n",
      "Charles\n",
      "Deepak\n"
     ]
    },
    {
     "data": {
      "image/png": "[encoded data removed]",
      "text/plain": [
       "<Figure size 640x480 with 1 Axes>"
      ]
     },
     "metadata": {},
     "output_type": "display_data"
    }
   ],
   "source": [
    "#question 7 :Dictionary Operations \n",
    "#  Creating a dictionary of student names and their marks\n",
    "students = {\n",
    "    \"Ali\": 85,\n",
    "    \"Bachan\": 78,\n",
    "    \"Charles\": 92,\n",
    "    \"Deepak\": 88,\n",
    "    \"Eeshan\": 76\n",
    "}\n",
    "\n",
    "# Computing the average marks\n",
    "total_marks = 0\n",
    "for mark in students.values():\n",
    "    total_marks += mark\n",
    "average_marks = total_marks / len(students)\n",
    "\n",
    "# printinh the names of students scoring above the average\n",
    "print(\"Average marks:\", average_marks)\n",
    "print(\"Students scoring above the average:\")\n",
    "for name, mark in students.items():\n",
    "    if mark > average_marks:\n",
    "        print(name)\n",
    "\n",
    "# Visualizing the distribution of marks using a bar chart\n",
    "import matplotlib.pyplot as plt\n",
    "\n",
    "names = list(students.keys())\n",
    "marks = list(students.values())\n",
    "\n",
    "plt.bar(names, marks, color='yellow',edgecolor ='grey')\n",
    "plt.title(\"Student Marks\")\n",
    "plt.xlabel(\"Students\")\n",
    "plt.ylabel(\"Marks\")\n",
    "plt.show()\n"
   ]
  },
  {
   "cell_type": "code",
   "execution_count": 26,
   "id": "541e5919-7fc6-4e25-95c8-de2d65c0349a",
   "metadata": {},
   "outputs": [
    {
     "name": "stdout",
     "output_type": "stream",
     "text": [
      "Number and their squares: [(1, 1), (2, 4), (3, 9), (4, 16), (5, 25), (6, 36), (7, 49), (8, 64), (9, 81), (10, 100)]\n"
     ]
    },
    {
     "data": {
      "image/png": "[encoded data removed]",
      "text/plain": [
       "<Figure size 640x480 with 1 Axes>"
      ]
     },
     "metadata": {},
     "output_type": "display_data"
    }
   ],
   "source": [
    "# question 8 : tuple list creation \n",
    "#  a list of numbers from 1 to 10\n",
    "numbers = list(range(1, 11))\n",
    "\n",
    "#  a list of tuples containing numbers and their squares\n",
    "number_squares = []\n",
    "for num in numbers:\n",
    "    number_squares.append((num, num ** 2))\n",
    "\n",
    "#  Printing the list of tuples\n",
    "print(\"Number and their squares:\", number_squares)\n",
    "\n",
    "#  Plot the numbers and their squares on a scatter plot\n",
    "import matplotlib.pyplot as plt\n",
    "\n",
    "# Separate numbers and squares into two lists for plotting\n",
    "x_values = [tup[0] for tup in number_squares]\n",
    "y_values = [tup[1] for tup in number_squares]\n",
    "\n",
    "plt.scatter(x_values, y_values, color='blue')\n",
    "plt.title(\"Numbers and Their Squares\")\n",
    "plt.xlabel(\"Number\")\n",
    "plt.ylabel(\"Square\")\n",
    "plt.show()\n"
   ]
  },
  {
   "cell_type": "code",
   "execution_count": 30,
   "id": "26e96efd-2615-4c8f-b21b-e9dc8f0d5030",
   "metadata": {},
   "outputs": [
    {
     "name": "stdout",
     "output_type": "stream",
     "text": [
      "{'a': 10, 'b': 20}\n",
      "{'b': 5, 'c': 15}\n",
      "Merged Dictionary: {'a': 10, 'b': 25, 'c': 15}\n"
     ]
    }
   ],
   "source": [
    "#question 9:Merging Dictionaries:\n",
    "\n",
    "#Write Python code to merge two dictionaries and if a key is present in both, sum their values.\n",
    "dict1 = {'a': 10, 'b': 20}\n",
    "print(dict1)\n",
    "dict2 = {'b': 5, 'c': 15}\n",
    "print(dict2)\n",
    "merged_dict = dict1.copy()\n",
    "\n",
    "for key in dict2:\n",
    "    if key in merged_dict:\n",
    "        \n",
    "        merged_dict[key] = merged_dict[key] + dict2[key]\n",
    "    else:\n",
    "        \n",
    "        merged_dict[key] = dict2[key]\n",
    "\n",
    "\n",
    "print(\"Merged Dictionary:\", merged_dict)\n"
   ]
  },
  {
   "cell_type": "code",
   "execution_count": 13,
   "id": "d7134e4b-4e74-439b-8c5a-df9458ab464f",
   "metadata": {},
   "outputs": [
    {
     "name": "stdin",
     "output_type": "stream",
     "text": [
      "Please enter a string:  wwwwwwwwweeeeeeewwwww\n"
     ]
    },
    {
     "name": "stdout",
     "output_type": "stream",
     "text": [
      "\n",
      "Character frequencies: {'w': 14, 'e': 7}\n"
     ]
    },
    {
     "data": {
      "image/png": "[encoded data removed]",
      "text/plain": [
       "<Figure size 640x480 with 1 Axes>"
      ]
     },
     "metadata": {},
     "output_type": "display_data"
    }
   ],
   "source": [
    "#question 10:Character Frequency\n",
    "\n",
    "\n",
    "\n",
    "#  the user will enter a string\n",
    "user_input = input(\"Please enter a string: \")\n",
    "\n",
    "#  Convert the string to lowercase to make the counting case-insensitive\n",
    "user_input = user_input.lower()\n",
    "\n",
    "#  Create an empty dictionary to store the frequency of each character\n",
    "frequency_dict = {}\n",
    "\n",
    "# Loop through each character in the string\n",
    "for char in user_input:\n",
    "    if char != \" \":  # Skip spaces, as we don't want to count them\n",
    "        if char in frequency_dict:\n",
    "            # If the character is already in the dictionary, add 1 to its count\n",
    "            frequency_dict[char] += 1\n",
    "        else:\n",
    "            # If the character is not in the dictionary, add it with count 1\n",
    "            frequency_dict[char] = 1\n",
    "\n",
    "#  Print the dictionary with character frequencies\n",
    "print(\"\\nCharacter frequencies:\", frequency_dict)\n",
    "\n",
    "#  Prepare the data for the bar chart\n",
    "characters = list(frequency_dict.keys())  # Get the characters (like 'a', 'b', etc.)\n",
    "frequencies = list(frequency_dict.values())  # Get the corresponding counts\n",
    "\n",
    "#  Create a bar chart\n",
    "import matplotlib.pyplot as plt\n",
    "\n",
    "plt.bar(characters, frequencies, color='blue')  # Create bars with character labels\n",
    "\n",
    "# Add labels and a title to the bar chart\n",
    "plt.title(\"Character Frequency in String\")  # Title for the chart\n",
    "plt.xlabel(\"Characters\")  # Label for the x-axis\n",
    "plt.ylabel(\"Frequency\")  # Label for the y-axis\n",
    "\n",
    "# Display the bar chart\n",
    "plt.show()\n"
   ]
  },
  {
   "cell_type": "code",
   "execution_count": 15,
   "id": "2eaf55bc-9e82-496c-bc65-25e9fd0dc8d8",
   "metadata": {},
   "outputs": [
    {
     "name": "stdin",
     "output_type": "stream",
     "text": [
      "Enter numbers separated by spaces:  1 2 3 4 5 6 4 2  3 3 3 3 \n"
     ]
    },
    {
     "name": "stdout",
     "output_type": "stream",
     "text": [
      "\n",
      "Unique numbers: [1, 2, 3, 4, 5, 6]\n",
      "Mean: 3.5\n",
      "Median: 3.5\n"
     ]
    }
   ],
   "source": [
    "#question 11:Remove Duplicates\n",
    "\n",
    "#Write a program to remove duplicate elements from a list while maintaining the order of elements.\n",
    "#Calculate the mean and median of the unique elements.\n",
    "\n",
    "# S the user will enter numbers separated by spaces\n",
    "numbers_input = input(\"Enter numbers separated by spaces: \")\n",
    "\n",
    "#  Convert the input into a list of numbers\n",
    "numbers = numbers_input.split()  # Split the input string into a list of strings\n",
    "numbers = [int(num) for num in numbers]  # Convert the list of strings to integers\n",
    "\n",
    "#  Remove duplicates while keeping the order\n",
    "unique_numbers = []\n",
    "for num in numbers:\n",
    "    if num not in unique_numbers:  # Add only if the number is not already in the list\n",
    "        unique_numbers.append(num)\n",
    "\n",
    "#  Calculate the mean\n",
    "total = sum(unique_numbers)  # Add all the unique numbers\n",
    "count = len(unique_numbers)  # Count how many unique numbers are there\n",
    "mean = total / count  # Divide the total by the count to get the mean\n",
    "\n",
    "#  Calculate the median\n",
    "unique_numbers.sort()  # Sort the unique numbers\n",
    "if count % 2 == 1:  # If the number of elements is odd\n",
    "    median = unique_numbers[count // 2]  # The middle number is the median\n",
    "else:  # If the number of elements is even\n",
    "    median = (unique_numbers[count // 2 - 1] + unique_numbers[count // 2]) / 2  # Average of the two middle numbers\n",
    "\n",
    "# Step 6: Print the results\n",
    "print(\"\\nUnique numbers:\", unique_numbers)\n",
    "print(\"Mean:\", mean)\n",
    "print(\"Median:\", median)\n"
   ]
  },
  {
   "cell_type": "code",
   "execution_count": 17,
   "id": "10657dd0-0fcc-4810-940e-c966ff14577d",
   "metadata": {},
   "outputs": [
    {
     "name": "stdin",
     "output_type": "stream",
     "text": [
      "Enter a list of strings separated by commas:  a,d,d,a,d,d,d,d,fg,hg,es,ed,q\n"
     ]
    },
    {
     "data": {
      "image/png": "[encoded data removed]",
      "text/plain": [
       "<Figure size 640x480 with 1 Axes>"
      ]
     },
     "metadata": {},
     "output_type": "display_data"
    },
    {
     "name": "stdout",
     "output_type": "stream",
     "text": [
      "\n",
      "Longest string: fg\n",
      "Number of strings starting with a vowel: 4\n"
     ]
    }
   ],
   "source": [
    "#question 12 : String Operations\n",
    "#Given a list of strings, write a Python function to:\n",
    "#Find the longest string.\n",
    "#Count how many strings start with a vowel.\n",
    "#Visualize the distribution of string lengths using a histogram.\n",
    "\n",
    "# Step 1: Input a list of strings from the user\n",
    "strings = input(\"Enter a list of strings separated by commas: \").split(\",\")  # Split the input by commas into a list\n",
    "\n",
    "# Step 2: Find the longest string\n",
    "longest_string = \"\"\n",
    "for string in strings:\n",
    "    if len(string) > len(longest_string):\n",
    "        longest_string = string\n",
    "\n",
    "# Step 3: Count how many strings start with a vowel\n",
    "vowels = \"aeiouAEIOU\"  # Define vowels\n",
    "count_vowel_start = 0\n",
    "for string in strings:\n",
    "    if string.strip() and string[0] in vowels:  # Check if the string starts with a vowel\n",
    "        count_vowel_start += 1\n",
    "\n",
    "# Step 4: Visualize the distribution of string lengths using a histogram\n",
    "# Calculate lengths of strings\n",
    "string_lengths = [len(string.strip()) for string in strings]\n",
    "\n",
    "# Import the necessary library for visualization\n",
    "import matplotlib.pyplot as plt\n",
    "\n",
    "# Create the histogram\n",
    "plt.hist(string_lengths, edgecolor='black')  # Plot string lengths\n",
    "plt.title(\"Distribution of String Lengths\")  # Title for the chart\n",
    "plt.xlabel(\"String Lengths\")  # Label for x-axis\n",
    "plt.ylabel(\"Frequency\")  # Label for y-axis\n",
    "\n",
    "# Show the histogram\n",
    "plt.show()\n",
    "\n",
    "# Step 5: Print results\n",
    "print(\"\\nLongest string:\", longest_string)\n",
    "print(\"Number of strings starting with a vowel:\", count_vowel_start)\n"
   ]
  },
  {
   "cell_type": "code",
   "execution_count": 29,
   "id": "ef57e84f-93a8-4f56-b782-45a8f5d57b0c",
   "metadata": {},
   "outputs": [
    {
     "name": "stdin",
     "output_type": "stream",
     "text": [
      "Enter the key to sort by (e.g., 'name' or 'age'):  age\n"
     ]
    },
    {
     "name": "stdout",
     "output_type": "stream",
     "text": [
      "\n",
      "Sorted data:\n",
      "{'name': 'Bob', 'age': 22}\n",
      "{'name': 'Alice', 'age': 25}\n",
      "{'name': 'Charlie', 'age': 30}\n"
     ]
    }
   ],
   "source": [
    "#question 13: Sorting Dictionaries\n",
    "# Step 1: Create a list of dictionaries\n",
    "data = [\n",
    "    {'name': 'Alice', 'age': 25},\n",
    "    {'name': 'Bob', 'age': 22},\n",
    "    {'name': 'Charlie', 'age': 30}\n",
    "]\n",
    "\n",
    "# Step 2: Ask the user to input the key to sort by\n",
    "key_to_sort = input(\"Enter the key to sort by (e.g., 'name' or 'age'): \")\n",
    "\n",
    "# Step 3: Sort the list of dictionaries\n",
    "# We use a lambda function to extract the value of the specified key for sorting\n",
    "sorted_data = sorted(data, key=lambda x: x[key_to_sort])\n",
    "\n",
    "# Step 4: Print the sorted list\n",
    "print(\"\\nSorted data:\")\n",
    "for item in sorted_data:\n",
    "    print(item)\n"
   ]
  },
  {
   "cell_type": "code",
   "execution_count": 37,
   "id": "6eb095b5-5c15-4e71-bf05-e3bd3a2ba3b2",
   "metadata": {},
   "outputs": [
    {
     "name": "stdin",
     "output_type": "stream",
     "text": [
      "Enter a sentence:  Clear Visualization:\n"
     ]
    },
    {
     "name": "stdout",
     "output_type": "stream",
     "text": [
      "\n",
      "Filtered and Sorted Words: ['Clear', 'Visualization:']\n"
     ]
    },
    {
     "data": {
      "image/png": "[encoded data removed]",
      "text/plain": [
       "<Figure size 640x480 with 1 Axes>"
      ]
     },
     "metadata": {},
     "output_type": "display_data"
    }
   ],
   "source": [
    "#question 14 Word Filtering and Sorting:\n",
    "# Step 1: Get a string input from the user\n",
    "input_string = input(\"Enter a sentence: \")\n",
    "\n",
    "# Step 2: Split the string into a list of words\n",
    "words = input_string.split()  # Split by spaces\n",
    "\n",
    "# Step 3: Remove words shorter than 4 characters\n",
    "filtered_words = []\n",
    "for word in words:\n",
    "    if len(word) >= 4:\n",
    "        filtered_words.append(word)\n",
    "\n",
    "# Step 4: Sort the remaining words alphabetically\n",
    "sorted_words = sorted(filtered_words)\n",
    "\n",
    "# Step 5: Print the filtered and sorted words\n",
    "print(\"\\nFiltered and Sorted Words:\", sorted_words)\n",
    "\n",
    "# Step 6: Visualize the word lengths using a bar chart\n",
    "import matplotlib.pyplot as plt\n",
    "\n",
    "# Prepare data for the chart\n",
    "word_lengths = [len(word) for word in sorted_words]  # Get the lengths of the sorted words\n",
    "\n",
    "# Create a bar chart\n",
    "plt.bar(sorted_words, word_lengths, color='skyblue')\n",
    "plt.title(\"Word Lengths\")\n",
    "plt.xlabel(\"Words\")\n",
    "plt.ylabel(\"Length\")\n",
    "plt.show()\n"
   ]
  },
  {
   "cell_type": "code",
   "execution_count": 39,
   "id": "fa87f6c8-94b0-433c-9651-d66761050b62",
   "metadata": {},
   "outputs": [
    {
     "name": "stdout",
     "output_type": "stream",
     "text": [
      "Anagrams of the word: ['enlist', 'inlets']\n"
     ]
    }
   ],
   "source": [
    "#question 15:Anagram Finder\n",
    "# Input\n",
    "word = \"listen\"\n",
    "words = [\"enlist\", \"google\", \"inlets\", \"banana\"]\n",
    "\n",
    "# Sort the letters of the input word to create a reference\n",
    "sorted_word = sorted(word)\n",
    "\n",
    "# Initialize an empty list to store anagrams\n",
    "anagrams = []\n",
    "\n",
    "# Iterate through each word in the word list\n",
    "for w in words:\n",
    "    # Check if the sorted letters match the sorted input word\n",
    "    if sorted(w) == sorted_word:\n",
    "        anagrams.append(w)\n",
    "\n",
    "# Output\n",
    "print(\"Anagrams of the word:\", anagrams)\n"
   ]
  },
  {
   "cell_type": "code",
   "execution_count": 49,
   "id": "d786cbae-3096-4203-85f5-e4e64f35ca56",
   "metadata": {},
   "outputs": [
    {
     "name": "stdout",
     "output_type": "stream",
     "text": [
      "Intersection: {4, 5}\n",
      "Union: {1, 2, 3, 4, 5, 6, 7, 8}\n",
      "Symmetric Difference: {1, 2, 3, 6, 7, 8}\n"
     ]
    },
    {
     "data": {
      "image/png": "[encoded data removed]",
      "text/plain": [
       "<Figure size 640x480 with 1 Axes>"
      ]
     },
     "metadata": {},
     "output_type": "display_data"
    }
   ],
   "source": [
    "#question 16:Set Operations\n",
    "# Import the required library\n",
    "\n",
    "from matplotlib_venn import venn2\n",
    "import matplotlib.pyplot as plt\n",
    "\n",
    "# Step 1: Define the two lists\n",
    "list1 = [1, 2, 3, 4, 5]\n",
    "list2 = [4, 5, 6, 7, 8]\n",
    "\n",
    "# Step 2: Convert the lists to sets\n",
    "set1 = set(list1)\n",
    "set2 = set(list2)\n",
    "\n",
    "# Step 3: Compute intersection, union, and symmetric difference\n",
    "intersection = set1 & set2  # Elements common to both sets\n",
    "union = set1 | set2         # All unique elements from both sets\n",
    "symmetric_difference = set1 ^ set2  # Elements in either set, but not in both\n",
    "\n",
    "# Print the results\n",
    "print(\"Intersection:\", intersection)\n",
    "print(\"Union:\", union)\n",
    "print(\"Symmetric Difference:\", symmetric_difference)\n",
    "\n",
    "# Step 4: Visualize the results using a Venn diagram\n",
    "venn = venn2([set1, set2], ('List 1', 'List 2'))\n",
    "\n",
    "# Add a title to the Venn diagram\n",
    "plt.title(\"Venn Diagram of List 1 and List 2\")\n",
    "\n",
    "# Display the diagram\n",
    "plt.show()\n"
   ]
  },
  {
   "cell_type": "code",
   "execution_count": 55,
   "id": "e268d014-78d5-4f20-824a-8f6507e855f7",
   "metadata": {},
   "outputs": [
    {
     "name": "stdout",
     "output_type": "stream",
     "text": [
      "Numbers have been written to 'numbers.txt'.\n",
      "The sum of the numbers is: 150\n"
     ]
    }
   ],
   "source": [
    "#question 17:File Operations:\n",
    "# Step 1: Create a list of numbers\n",
    "numbers = [10, 20, 30, 40, 50]\n",
    "\n",
    "# Step 2: Create and write to a text file\n",
    "with open(\"numbers.txt\", \"w\") as file:\n",
    "    for number in numbers:\n",
    "        file.write(str(number) + \"\\n\")  # Write each number on a new line\n",
    "\n",
    "print(\"Numbers have been written to 'numbers.txt'.\")\n",
    "\n",
    "# Step 3: Read the numbers from the file and compute their sum\n",
    "sum_of_numbers = 0\n",
    "with open(\"numbers.txt\", \"r\") as file:\n",
    "    for line in file:\n",
    "        sum_of_numbers += int(line.strip())  # Convert each line to an integer and add to sum\n",
    "\n",
    "# Step 4: Output the sum\n",
    "print(\"The sum of the numbers is:\", sum_of_numbers)\n"
   ]
  },
  {
   "cell_type": "code",
   "execution_count": 9,
   "id": "03cc1423-bcfb-4142-bab4-cf91aae91a4e",
   "metadata": {},
   "outputs": [
    {
     "name": "stdout",
     "output_type": "stream",
     "text": [
      "Error: The file 'sample.txt' was not found. Please check the file path.\n"
     ]
    },
    {
     "ename": "NameError",
     "evalue": "name 'text' is not defined",
     "output_type": "error",
     "traceback": [
      "\u001b[1;31m---------------------------------------------------------------------------\u001b[0m",
      "\u001b[1;31mNameError\u001b[0m                                 Traceback (most recent call last)",
      "Cell \u001b[1;32mIn[9], line 18\u001b[0m\n\u001b[0;32m     15\u001b[0m     exit()\n\u001b[0;32m     17\u001b[0m \u001b[38;5;66;03m# Step 3: Clean the text (remove punctuation and convert to lowercase)\u001b[39;00m\n\u001b[1;32m---> 18\u001b[0m text \u001b[38;5;241m=\u001b[39m text\u001b[38;5;241m.\u001b[39mtranslate(\u001b[38;5;28mstr\u001b[39m\u001b[38;5;241m.\u001b[39mmaketrans(\u001b[38;5;124m\"\u001b[39m\u001b[38;5;124m\"\u001b[39m, \u001b[38;5;124m\"\u001b[39m\u001b[38;5;124m\"\u001b[39m, string\u001b[38;5;241m.\u001b[39mpunctuation))  \u001b[38;5;66;03m# Remove punctuation\u001b[39;00m\n\u001b[0;32m     19\u001b[0m text \u001b[38;5;241m=\u001b[39m text\u001b[38;5;241m.\u001b[39mlower()  \u001b[38;5;66;03m# Convert to lowercase to avoid case-sensitive counts\u001b[39;00m\n\u001b[0;32m     21\u001b[0m \u001b[38;5;66;03m# Step 4: Split the text into words\u001b[39;00m\n",
      "\u001b[1;31mNameError\u001b[0m: name 'text' is not defined"
     ]
    }
   ],
   "source": [
    "#question 18: Word Count and Frequency\n",
    "import matplotlib.pyplot as plt\n",
    "from collections import Counter\n",
    "import string\n",
    "\n",
    "# Step 1: Read the content of the file\n",
    "filename = \"sample.txt\"  # Replace with your file name\n",
    "\n",
    "# Step 2: Attempt to open the file\n",
    "try:\n",
    "    with open(filename, \"r\") as file:\n",
    "        text = file.read()  # Read all the text from the file\n",
    "except FileNotFoundError:\n",
    "    print(f\"Error: The file '{filename}' was not found. Please check the file path.\")\n",
    "    exit()\n",
    "\n",
    "# Step 3: Clean the text (remove punctuation and convert to lowercase)\n",
    "text = text.translate(str.maketrans(\"\", \"\", string.punctuation))  # Remove punctuation\n",
    "text = text.lower()  # Convert to lowercase to avoid case-sensitive counts\n",
    "\n",
    "# Step 4: Split the text into words\n",
    "words = text.split()  # Split by spaces to get all words\n",
    "\n",
    "# Step 5: Count the number of words\n",
    "num_words = len(words)\n",
    "print(f\"Total number of words: {num_words}\")\n",
    "\n",
    "# Step 6: Find the most frequent word\n",
    "word_counts = Counter(words)  # Count the frequency of each word\n",
    "most_frequent_word, frequency = word_counts.most_common(1)[0]  # Get the most common word\n",
    "print(f\"The most frequent word is '{most_frequent_word}' with {frequency} occurrences.\")\n",
    "\n",
    "# Step 7: Limit the number of words for the chart (top 10 most frequent words)\n",
    "top_words = word_counts.most_common(10)\n",
    "words, counts = zip(*top_words)  # Get the top 10 words and their counts\n",
    "\n",
    "# Step 8: Visualize the word frequencies using a bar chart\n",
    "plt.bar(words, counts)\n",
    "\n",
    "# Rotate x-axis labels for better visibility\n",
    "plt.xticks(rotation=90)\n",
    "\n",
    "# Add labels and a title\n",
    "plt.xlabel(\"Words\")\n",
    "plt.ylabel(\"Frequency\")\n",
    "plt.title(\"Top 10 Word Frequencies in the Text File\")\n",
    "\n",
    "# Show the plot\n",
    "plt.show()\n"
   ]
  },
  {
   "cell_type": "code",
   "execution_count": 72,
   "id": "ddfac5a2-6496-40b0-b730-c242767fc472",
   "metadata": {},
   "outputs": [
    {
     "name": "stdout",
     "output_type": "stream",
     "text": [
      "The mean of the numbers is: 27.6\n"
     ]
    },
    {
     "data": {
      "image/png": "[encoded data removed]",
      "text/plain": [
       "<Figure size 640x480 with 1 Axes>"
      ]
     },
     "metadata": {},
     "output_type": "display_data"
    }
   ],
   "source": [
    "#question 19 :Random Number Generation:\n",
    "import random\n",
    "import matplotlib.pyplot as plt\n",
    "\n",
    "# Step 1: Generate 100 random integers between 1 and 50\n",
    "random_numbers = [random.randint(1, 50) for _ in range(100)]\n",
    "\n",
    "# Step 2: Save the numbers in a text file (one number per line)\n",
    "filename = \"random_numbers.txt\"\n",
    "with open(filename, \"w\") as file:\n",
    "    for number in random_numbers:\n",
    "        file.write(f\"{number}\\n\")\n",
    "\n",
    "# Step 3: Read the file and compute the mean\n",
    "with open(filename, \"r\") as file:\n",
    "    numbers_from_file = [int(line.strip()) for line in file.readlines()]\n",
    "\n",
    "# Calculate the mean\n",
    "mean = sum(numbers_from_file) / len(numbers_from_file)\n",
    "print(f\"The mean of the numbers is: {mean}\")\n",
    "\n",
    "# Step 4: Visualize the distribution of the numbers using a histogram\n",
    "plt.hist(numbers_from_file, bins=10, edgecolor='black')  # 10 bins to categorize the values\n",
    "plt.title(\"Distribution of Random Numbers\")\n",
    "plt.xlabel(\"Number Range\")\n",
    "plt.ylabel(\"Frequency\")\n",
    "plt.show()\n"
   ]
  },
  {
   "cell_type": "code",
   "execution_count": 7,
   "id": "8142e2fd-754c-49fd-9726-96c848727d99",
   "metadata": {},
   "outputs": [
    {
     "name": "stdout",
     "output_type": "stream",
     "text": [
      "The sum of the values is: 0\n"
     ]
    },
    {
     "data": {
      "image/png": "[encoded data removed]",
      "text/plain": [
       "<Figure size 640x480 with 1 Axes>"
      ]
     },
     "metadata": {},
     "output_type": "display_data"
    }
   ],
   "source": [
    "#question 20:CSV File Operations:\n",
    "\n",
    "import csv\n",
    "import matplotlib.pyplot as plt\n",
    "\n",
    "# Step 1: Read the CSV file and extract the 'Value' column\n",
    "filename = 'E:\\\\sum.csv'  # Path to your CSV file\n",
    "\n",
    "dates = []\n",
    "values = []\n",
    "\n",
    "with open(filename, mode='r') as file:\n",
    "    csv_reader = csv.reader(file)\n",
    "    next(csv_reader)  # Skip header row\n",
    "    for row in csv_reader:\n",
    "        if len(row) >= 2:  # Check if the row has at least 2 columns (Date and Value)\n",
    "            dates.append(row[0])  # First column is the date\n",
    "            try:\n",
    "                values.append(int(row[1]))  # Second column is the numeric value\n",
    "            except ValueError:\n",
    "                # Handle case where the value is not an integer\n",
    "                print(f\"Warning: Invalid value found on row: {row}\")\n",
    "                continue\n",
    "\n",
    "# Step 2: Compute the sum of values in the 'Value' column\n",
    "sum_of_values = sum(values)\n",
    "print(f\"The sum of the values is: {sum_of_values}\")\n",
    "\n",
    "# Step 3: Visualize the data using a line plot\n",
    "plt.plot(dates, values, marker='o')  # Plot with markers\n",
    "plt.title(\"Values Over Time\")\n",
    "plt.xlabel(\"Date\")\n",
    "plt.ylabel(\"Value\")\n",
    "plt.xticks(rotation=45)  # Rotate date labels for better readability\n",
    "plt.grid(True)\n",
    "plt.show()\n"
   ]
  },
  {
   "cell_type": "code",
   "execution_count": 88,
   "id": "5642208e-5cc9-46d6-a9d9-16776baf85c6",
   "metadata": {},
   "outputs": [
    {
     "name": "stdout",
     "output_type": "stream",
     "text": [
      "Mean: 55\n",
      "Median: 55.0\n",
      "Mode: 10\n",
      "Standard Deviation: 30.276503540974918\n"
     ]
    },
    {
     "data": {
      "image/png": "[encoded data removed]",
      "text/plain": [
       "<Figure size 640x480 with 1 Axes>"
      ]
     },
     "metadata": {},
     "output_type": "display_data"
    }
   ],
   "source": [
    "#question 21 :Basic Statistics:\n",
    "import statistics\n",
    "import matplotlib.pyplot as plt\n",
    "\n",
    "# Sample list of numbers\n",
    "numbers = [10, 20, 30, 40, 50, 60, 70, 80, 90, 100]\n",
    "\n",
    "# Calculate mean, median, mode, and standard deviation\n",
    "mean = statistics.mean(numbers)\n",
    "median = statistics.median(numbers)\n",
    "mode = statistics.mode(numbers)\n",
    "std_dev = statistics.stdev(numbers)\n",
    "\n",
    "# Print the results\n",
    "print(f\"Mean: {mean}\")\n",
    "print(f\"Median: {median}\")\n",
    "print(f\"Mode: {mode}\")\n",
    "print(f\"Standard Deviation: {std_dev}\")\n",
    "\n",
    "# Create a box plot to visualize the data\n",
    "plt.boxplot(numbers)\n",
    "plt.title(\"Box Plot of Numbers\")\n",
    "plt.ylabel(\"Values\")\n",
    "plt.show()\n"
   ]
  },
  {
   "cell_type": "code",
   "execution_count": 90,
   "id": "be1bda4b-8e16-4ef2-8cbf-795cfa9bd1c4",
   "metadata": {},
   "outputs": [
    {
     "name": "stdout",
     "output_type": "stream",
     "text": [
      "Normalized data: [0.0, 0.1111111111111111, 0.2222222222222222, 0.3333333333333333, 0.4444444444444444, 0.5555555555555556, 0.6666666666666666, 0.7777777777777778, 0.8888888888888888, 1.0]\n"
     ]
    },
    {
     "data": {
      "image/png": "[encoded data removed]",
      "text/plain": [
       "<Figure size 640x480 with 1 Axes>"
      ]
     },
     "metadata": {},
     "output_type": "display_data"
    }
   ],
   "source": [
    "#question 22: Normalization\n",
    "import matplotlib.pyplot as plt\n",
    "\n",
    "# Function to normalize a list of numbers to the range 0 to 1\n",
    "def normalize_data(data):\n",
    "    min_value = min(data)\n",
    "    max_value = max(data)\n",
    "    normalized_data = [(x - min_value) / (max_value - min_value) for x in data]\n",
    "    return normalized_data\n",
    "\n",
    "# Sample list of numbers\n",
    "numbers = [10, 20, 30, 40, 50, 60, 70, 80, 90, 100]\n",
    "\n",
    "# Normalize the data\n",
    "normalized_numbers = normalize_data(numbers)\n",
    "\n",
    "# Print the normalized data\n",
    "print(\"Normalized data:\", normalized_numbers)\n",
    "\n",
    "# Visualize the normalized data using a line plot\n",
    "plt.plot(normalized_numbers, marker='o', color='b')  # Line plot with markers\n",
    "plt.title(\"Normalized Data (0 to 1)\")\n",
    "plt.xlabel(\"Index\")\n",
    "plt.ylabel(\"Normalized Value\")\n",
    "plt.grid(True)\n",
    "plt.show()\n"
   ]
  },
  {
   "cell_type": "code",
   "execution_count": 94,
   "id": "e8bec358-42d9-44f2-a78e-cef247b02eae",
   "metadata": {},
   "outputs": [
    {
     "name": "stdin",
     "output_type": "stream",
     "text": [
      "Enter an integer:  23432333\n"
     ]
    },
    {
     "name": "stdout",
     "output_type": "stream",
     "text": [
      "The number 23432333 is odd.\n"
     ]
    }
   ],
   "source": [
    "#question 23:Even or Odd\n",
    "# Get input from the user\n",
    "number = int(input(\"Enter an integer: \"))\n",
    "\n",
    "# Check if the number is even or odd\n",
    "if number % 2 == 0:\n",
    "    print(f\"The number {number} is even.\")\n",
    "else:\n",
    "    print(f\"The number {number} is odd.\")\n"
   ]
  },
  {
   "cell_type": "code",
   "execution_count": 98,
   "id": "37798a59-3317-4e51-bddd-da19499ecee1",
   "metadata": {},
   "outputs": [
    {
     "name": "stdin",
     "output_type": "stream",
     "text": [
      "Enter the numerical grade (0-100):  100\n"
     ]
    },
    {
     "name": "stdout",
     "output_type": "stream",
     "text": [
      "The letter grade for 100 is: A\n"
     ]
    }
   ],
   "source": [
    "#question 24: Grade Calculator:\n",
    "# Get input from the user\n",
    "grade = int(input(\"Enter the numerical grade (0-100): \"))\n",
    "\n",
    "# Determine the letter grade based on the numerical grade\n",
    "if 90 <= grade <= 100:\n",
    "    letter_grade = 'A'\n",
    "elif 80 <= grade < 90:\n",
    "    letter_grade = 'B'\n",
    "elif 70 <= grade < 80:\n",
    "    letter_grade = 'C'\n",
    "elif 60 <= grade < 70:\n",
    "    letter_grade = 'D'\n",
    "elif 0 <= grade < 60:\n",
    "    letter_grade = 'F'\n",
    "else:\n",
    "    letter_grade = \"Invalid grade\"\n",
    "\n",
    "# Print the corresponding letter grade\n",
    "print(f\"The letter grade for {grade} is: {letter_grade}\")\n"
   ]
  },
  {
   "cell_type": "code",
   "execution_count": 102,
   "id": "9d32372a-e0a0-462e-a64c-e300477b42b9",
   "metadata": {},
   "outputs": [
    {
     "name": "stdin",
     "output_type": "stream",
     "text": [
      "Enter a year:  2024\n"
     ]
    },
    {
     "name": "stdout",
     "output_type": "stream",
     "text": [
      "2024 is a leap year.\n"
     ]
    }
   ],
   "source": [
    "#question 25:Leap Year Checker\n",
    "# Get input from the user\n",
    "year = int(input(\"Enter a year: \"))\n",
    "\n",
    "# Check if the year is a leap year\n",
    "if (year % 4 == 0 and year % 100 != 0) or (year % 400 == 0):\n",
    "    print(f\"{year} is a leap year.\")\n",
    "else:\n",
    "    print(f\"{year} is not a leap year.\")\n"
   ]
  },
  {
   "cell_type": "code",
   "execution_count": null,
   "id": "967cf1ec-7e8f-455b-9df8-b2b7d6447806",
   "metadata": {},
   "outputs": [],
   "source": []
  }
 ],
 "metadata": {
  "kernelspec": {
   "display_name": "Python [conda env:base] *",
   "language": "python",
   "name": "conda-base-py"
  },
  "language_info": {
   "codemirror_mode": {
    "name": "ipython",
    "version": 3
   },
   "file_extension": ".py",
   "mimetype": "text/x-python",
   "name": "python",
   "nbconvert_exporter": "python",
   "pygments_lexer": "ipython3",
   "version": "3.12.7"
  }
 },
 "nbformat": 4,
 "nbformat_minor": 5
}
